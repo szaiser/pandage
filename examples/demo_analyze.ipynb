{
 "cells": [
  {
   "cell_type": "code",
   "execution_count": 1,
   "metadata": {},
   "outputs": [],
   "source": [
    "%matplotlib inline\n",
    "import matplotlib.pyplot as plt\n",
    "from qutip_enhanced.qutip_enhanced import *\n",
    "from qutip_enhanced import *"
   ]
  },
  {
   "cell_type": "code",
   "execution_count": 2,
   "metadata": {
    "scrolled": true
   },
   "outputs": [
    {
     "data": {
      "text/plain": [
       "{'xxm': Quantum object: dims = [[2, 2], [1, 1]], shape = (4, 1), type = ket\n",
       " Qobj data =\n",
       " [[ 0.5]\n",
       "  [-0.5]\n",
       "  [ 0.5]\n",
       "  [-0.5]],\n",
       " 'xy': Quantum object: dims = [[2, 2], [1, 1]], shape = (4, 1), type = ket\n",
       " Qobj data =\n",
       " [[ 0.5+0.j ]\n",
       "  [ 0.0+0.5j]\n",
       "  [ 0.5+0.j ]\n",
       "  [ 0.0+0.5j]],\n",
       " 'xz': Quantum object: dims = [[2, 2], [1, 1]], shape = (4, 1), type = ket\n",
       " Qobj data =\n",
       " [[ 0.70710678]\n",
       "  [ 0.        ]\n",
       "  [ 0.70710678]\n",
       "  [ 0.        ]]}"
      ]
     },
     "execution_count": 2,
     "metadata": {},
     "output_type": "execute_result"
    }
   ],
   "source": [
    "CROT = get_rot_operator_all_spins(dims=[2,2],\n",
    "                                angle=np.pi,\n",
    "                                rotated_spin=0,\n",
    "                                rotation_axis={'y':1}, \n",
    "                                selective_to={1:[0]})\n",
    "names_multi_list=[('x', 'y'), ('x', 'xm'), ('x', 'z')]\n",
    "analyze.test_states(CROT, pure=True, names_multi_list=names_multi_list)"
   ]
  },
  {
   "cell_type": "code",
   "execution_count": 3,
   "metadata": {},
   "outputs": [
    {
     "data": {
      "text/plain": [
       "{'xx': Quantum object: dims = [[2, 2], [2, 2]], shape = (4, 4), type = oper, isherm = True\n",
       " Qobj data =\n",
       " [[ 0.25  0.25  0.25  0.25]\n",
       "  [ 0.25  0.25  0.25  0.25]\n",
       "  [ 0.25  0.25  0.25  0.25]\n",
       "  [ 0.25  0.25  0.25  0.25]],\n",
       " 'xym': Quantum object: dims = [[2, 2], [2, 2]], shape = (4, 4), type = oper, isherm = True\n",
       " Qobj data =\n",
       " [[ 0.25+0.j    0.00+0.25j  0.25+0.j    0.00+0.25j]\n",
       "  [ 0.00-0.25j  0.25+0.j    0.00-0.25j  0.25+0.j  ]\n",
       "  [ 0.25+0.j    0.00+0.25j  0.25+0.j    0.00+0.25j]\n",
       "  [ 0.00-0.25j  0.25+0.j    0.00-0.25j  0.25+0.j  ]],\n",
       " 'xz': Quantum object: dims = [[2, 2], [2, 2]], shape = (4, 4), type = oper, isherm = True\n",
       " Qobj data =\n",
       " [[ 0.5  0.   0.5  0. ]\n",
       "  [ 0.   0.   0.   0. ]\n",
       "  [ 0.5  0.   0.5  0. ]\n",
       "  [ 0.   0.   0.   0. ]],\n",
       " 'ymx': Quantum object: dims = [[2, 2], [2, 2]], shape = (4, 4), type = oper, isherm = True\n",
       " Qobj data =\n",
       " [[ 0.25+0.j    0.25+0.j    0.00+0.25j  0.00+0.25j]\n",
       "  [ 0.25+0.j    0.25+0.j    0.00+0.25j  0.00+0.25j]\n",
       "  [ 0.00-0.25j  0.00-0.25j  0.25+0.j    0.25+0.j  ]\n",
       "  [ 0.00-0.25j  0.00-0.25j  0.25+0.j    0.25+0.j  ]],\n",
       " 'ymym': Quantum object: dims = [[2, 2], [2, 2]], shape = (4, 4), type = oper, isherm = True\n",
       " Qobj data =\n",
       " [[ 0.25+0.j    0.00+0.25j  0.00+0.25j -0.25+0.j  ]\n",
       "  [ 0.00-0.25j  0.25+0.j    0.25+0.j    0.00+0.25j]\n",
       "  [ 0.00-0.25j  0.25+0.j    0.25+0.j    0.00+0.25j]\n",
       "  [-0.25+0.j    0.00-0.25j  0.00-0.25j  0.25+0.j  ]],\n",
       " 'ymz': Quantum object: dims = [[2, 2], [2, 2]], shape = (4, 4), type = oper, isherm = True\n",
       " Qobj data =\n",
       " [[ 0.5+0.j   0.0+0.j   0.0+0.5j  0.0+0.j ]\n",
       "  [ 0.0+0.j   0.0+0.j   0.0+0.j   0.0+0.j ]\n",
       "  [ 0.0-0.5j  0.0+0.j   0.5+0.j   0.0+0.j ]\n",
       "  [ 0.0+0.j   0.0+0.j   0.0+0.j   0.0+0.j ]],\n",
       " 'zx': Quantum object: dims = [[2, 2], [2, 2]], shape = (4, 4), type = oper, isherm = True\n",
       " Qobj data =\n",
       " [[ 0.5  0.5  0.   0. ]\n",
       "  [ 0.5  0.5  0.   0. ]\n",
       "  [ 0.   0.   0.   0. ]\n",
       "  [ 0.   0.   0.   0. ]],\n",
       " 'zym': Quantum object: dims = [[2, 2], [2, 2]], shape = (4, 4), type = oper, isherm = True\n",
       " Qobj data =\n",
       " [[ 0.5+0.j   0.0+0.5j  0.0+0.j   0.0+0.j ]\n",
       "  [ 0.0-0.5j  0.5+0.j   0.0+0.j   0.0+0.j ]\n",
       "  [ 0.0+0.j   0.0+0.j   0.0+0.j   0.0+0.j ]\n",
       "  [ 0.0+0.j   0.0+0.j   0.0+0.j   0.0+0.j ]],\n",
       " 'zz': Quantum object: dims = [[2, 2], [2, 2]], shape = (4, 4), type = oper, isherm = True\n",
       " Qobj data =\n",
       " [[ 1.  0.  0.  0.]\n",
       "  [ 0.  0.  0.  0.]\n",
       "  [ 0.  0.  0.  0.]\n",
       "  [ 0.  0.  0.  0.]]}"
      ]
     },
     "execution_count": 3,
     "metadata": {},
     "output_type": "execute_result"
    }
   ],
   "source": [
    "names_single = ['x', 'ym', 'z']\n",
    "analyze.test_states(CROT, pure=False, names_single=names_single)"
   ]
  },
  {
   "cell_type": "code",
   "execution_count": 4,
   "metadata": {},
   "outputs": [
    {
     "data": {
      "text/plain": [
       "{'xxm': Quantum object: dims = [[2, 2], [2, 2]], shape = (4, 4), type = oper, isherm = True\n",
       " Qobj data =\n",
       " [[ 0.25 -0.25  0.25 -0.25]\n",
       "  [-0.25  0.25 -0.25  0.25]\n",
       "  [ 0.25 -0.25  0.25 -0.25]\n",
       "  [-0.25  0.25 -0.25  0.25]],\n",
       " 'xy': Quantum object: dims = [[2, 2], [2, 2]], shape = (4, 4), type = oper, isherm = True\n",
       " Qobj data =\n",
       " [[ 0.25+0.j    0.00-0.25j  0.25+0.j    0.00-0.25j]\n",
       "  [ 0.00+0.25j  0.25+0.j    0.00+0.25j  0.25+0.j  ]\n",
       "  [ 0.25+0.j    0.00-0.25j  0.25+0.j    0.00-0.25j]\n",
       "  [ 0.00+0.25j  0.25+0.j    0.00+0.25j  0.25+0.j  ]],\n",
       " 'xz': Quantum object: dims = [[2, 2], [2, 2]], shape = (4, 4), type = oper, isherm = True\n",
       " Qobj data =\n",
       " [[ 0.5  0.   0.5  0. ]\n",
       "  [ 0.   0.   0.   0. ]\n",
       "  [ 0.5  0.   0.5  0. ]\n",
       "  [ 0.   0.   0.   0. ]]}"
      ]
     },
     "execution_count": 4,
     "metadata": {},
     "output_type": "execute_result"
    }
   ],
   "source": [
    "ts = analyze.test_states(CROT, pure=False, names_multi_list=names_multi_list)\n",
    "ts"
   ]
  },
  {
   "cell_type": "code",
   "execution_count": 5,
   "metadata": {},
   "outputs": [
    {
     "data": {
      "text/plain": [
       "{'xxm': Quantum object: dims = [[2, 2], [2, 2]], shape = (4, 4), type = oper, isherm = True\n",
       " Qobj data =\n",
       " [[ 0.25  0.25 -0.25  0.25]\n",
       "  [ 0.25  0.25 -0.25  0.25]\n",
       "  [-0.25 -0.25  0.25 -0.25]\n",
       "  [ 0.25  0.25 -0.25  0.25]],\n",
       " 'xy': Quantum object: dims = [[2, 2], [2, 2]], shape = (4, 4), type = oper, isherm = True\n",
       " Qobj data =\n",
       " [[ 0.25+0.j    0.00+0.25j -0.25+0.j    0.00+0.25j]\n",
       "  [ 0.00-0.25j  0.25+0.j    0.00+0.25j  0.25+0.j  ]\n",
       "  [-0.25+0.j    0.00-0.25j  0.25+0.j    0.00-0.25j]\n",
       "  [ 0.00-0.25j  0.25+0.j    0.00+0.25j  0.25+0.j  ]],\n",
       " 'xz': Quantum object: dims = [[2, 2], [2, 2]], shape = (4, 4), type = oper, isherm = True\n",
       " Qobj data =\n",
       " [[ 0.5  0.  -0.5  0. ]\n",
       "  [ 0.   0.   0.   0. ]\n",
       "  [-0.5  0.   0.5  0. ]\n",
       "  [ 0.   0.   0.   0. ]]}"
      ]
     },
     "execution_count": 5,
     "metadata": {},
     "output_type": "execute_result"
    }
   ],
   "source": [
    "analyze.propagate_test_states(CROT, ts)"
   ]
  },
  {
   "cell_type": "code",
   "execution_count": 6,
   "metadata": {},
   "outputs": [
    {
     "data": {
      "text/plain": [
       "[[(1,), (0,)]]"
      ]
     },
     "execution_count": 6,
     "metadata": {},
     "output_type": "execute_result"
    }
   ],
   "source": [
    "states = [range(2)]\n",
    "analyze.single_quantum_transition(states)"
   ]
  },
  {
   "cell_type": "code",
   "execution_count": 7,
   "metadata": {},
   "outputs": [
    {
     "data": {
      "text/plain": [
       "('0', '-0.5')"
      ]
     },
     "execution_count": 7,
     "metadata": {},
     "output_type": "execute_result"
    }
   ],
   "source": [
    "name_list = [('0', '-1')] + [('+0.5', '-0.5')]*4\n",
    "state = (0, 1)\n",
    "state2 = analyze.state_num2name(state, name_list)\n",
    "state2"
   ]
  },
  {
   "cell_type": "code",
   "execution_count": 8,
   "metadata": {},
   "outputs": [
    {
     "data": {
      "text/plain": [
       "(0, 1)"
      ]
     },
     "execution_count": 8,
     "metadata": {},
     "output_type": "execute_result"
    }
   ],
   "source": [
    "state3 = analyze.state_name2num(state2, name_list)\n",
    "state3"
   ]
  },
  {
   "cell_type": "code",
   "execution_count": 9,
   "metadata": {},
   "outputs": [
    {
     "data": {
      "text/plain": [
       "True"
      ]
     },
     "execution_count": 9,
     "metadata": {},
     "output_type": "execute_result"
    }
   ],
   "source": [
    "state4 = analyze.state_num_name(state, name_list)\n",
    "state5 = analyze.state_num_name(state4, name_list)\n",
    "state5 == state"
   ]
  },
  {
   "cell_type": "code",
   "execution_count": 10,
   "metadata": {},
   "outputs": [
    {
     "data": {
      "text/plain": [
       "[('0', '+0.5', '+0.5', '-0.5'), ('-1', '+0.5', '+0.5', '-0.5')]"
      ]
     },
     "execution_count": 10,
     "metadata": {},
     "output_type": "execute_result"
    }
   ],
   "source": [
    "state_list0 = [(0,0,0,1), (1,0,0,1)]\n",
    "state_list1 = analyze.state_num_name(state_list0, name_list)\n",
    "state_list1"
   ]
  },
  {
   "cell_type": "code",
   "execution_count": 11,
   "metadata": {},
   "outputs": [
    {
     "data": {
      "text/plain": [
       "[(0, 0, 0, 1), (1, 0, 0, 1)]"
      ]
     },
     "execution_count": 11,
     "metadata": {},
     "output_type": "execute_result"
    }
   ],
   "source": [
    "analyze.state_num_name(state_list1, name_list)"
   ]
  },
  {
   "cell_type": "code",
   "execution_count": 12,
   "metadata": {},
   "outputs": [
    {
     "data": {
      "text/latex": [
       "Quantum object: dims = [[2, 2], [2, 2]], shape = (4, 4), type = oper, isherm = True\\begin{equation*}\\left(\\begin{array}{*{11}c}0.0 & 0.0 & 0.0 & 0.0\\\\0.0 & 6.976 & -2.700 & 0.0\\\\0.0 & -2.700 & -1.562\\times10^{+04} & 0.0\\\\0.0 & 0.0 & 0.0 & -1.562\\times10^{+04}\\\\\\end{array}\\right)\\end{equation*}"
      ],
      "text/plain": [
       "Quantum object: dims = [[2, 2], [2, 2]], shape = (4, 4), type = oper, isherm = True\n",
       "Qobj data =\n",
       "[[     0.            0.            0.            0.      ]\n",
       " [     0.            6.976301     -2.7           0.      ]\n",
       " [     0.           -2.7      -15624.004376      0.      ]\n",
       " [     0.            0.            0.       -15619.193075]]"
      ]
     },
     "execution_count": 12,
     "metadata": {},
     "output_type": "execute_result"
    }
   ],
   "source": [
    "nvham2 = nv_hamilton.NVHam(magnet_field={'z': 0.66},\n",
    "                      n_type='14n',\n",
    "                      nitrogen_levels=[0, 1],\n",
    "                      electron_levels=[1, 2])\n",
    "h1 = do_zero(nvham2.h_nv)\n",
    "h1"
   ]
  },
  {
   "cell_type": "code",
   "execution_count": 13,
   "metadata": {},
   "outputs": [
    {
     "data": {
      "text/plain": [
       "{\"(('-1', '+0.5'), ('0', '+0.5'))\": 15624.004376000001,\n",
       " \"(('0', '-0.5'), ('0', '+0.5'))\": -6.9763009999999994}"
      ]
     },
     "execution_count": 13,
     "metadata": {},
     "output_type": "execute_result"
    }
   ],
   "source": [
    "analyze.get_transition_frequency(h1, states_list=[[(1, 0), (0,0)], [(0,1), (0,0)]], \n",
    "                                 name_list=[('0', '-1'), ('+0.5', '-0.5')])"
   ]
  },
  {
   "cell_type": "code",
   "execution_count": 14,
   "metadata": {},
   "outputs": [
    {
     "data": {
      "text/plain": [
       "(<matplotlib.figure.Figure at 0x4ce9e10>,\n",
       " array([[<matplotlib.axes._subplots.AxesSubplot object at 0x000000000C8A88D0>, <matplotlib.axes._subplots.AxesSubplot object at 0x000000000C999240>],\n",
       "        [<matplotlib.axes._subplots.AxesSubplot object at 0x000000000CA56B70>, <matplotlib.axes._subplots.AxesSubplot object at 0x000000000CAD0358>],\n",
       "        [<matplotlib.axes._subplots.AxesSubplot object at 0x000000000CC117F0>, <matplotlib.axes._subplots.AxesSubplot object at 0x000000000CD270B8>],\n",
       "        [<matplotlib.axes._subplots.AxesSubplot object at 0x000000000CDC4F28>, <matplotlib.axes._subplots.AxesSubplot object at 0x000000000CE925F8>]], dtype=object))"
      ]
     },
     "execution_count": 14,
     "metadata": {},
     "output_type": "execute_result"
    },
    {
     "data": {
      "image/png": "[encoded data removed]",
      "text/plain": [
       "<matplotlib.figure.Figure at 0x4ce9e10>"
      ]
     },
     "metadata": {},
     "output_type": "display_data"
    }
   ],
   "source": [
    "ts = analyze.test_states(CROT, pure=False, names_multi_list=[('z', 'x'), ('z', 'xm'), ('z', 'z')])\n",
    "analyze.plot_state([ts.values()], var=ts.keys())"
   ]
  },
  {
   "cell_type": "code",
   "execution_count": 15,
   "metadata": {},
   "outputs": [
    {
     "data": {
      "text/plain": [
       "(<matplotlib.figure.Figure at 0xc999160>,\n",
       " array([[<matplotlib.axes._subplots.AxesSubplot object at 0x000000001067D240>, <matplotlib.axes._subplots.AxesSubplot object at 0x000000001084AAC8>],\n",
       "        [<matplotlib.axes._subplots.AxesSubplot object at 0x0000000010955550>, <matplotlib.axes._subplots.AxesSubplot object at 0x00000000109BAC18>],\n",
       "        [<matplotlib.axes._subplots.AxesSubplot object at 0x0000000010AD93C8>, <matplotlib.axes._subplots.AxesSubplot object at 0x0000000010BC1A90>],\n",
       "        [<matplotlib.axes._subplots.AxesSubplot object at 0x0000000010C8D470>, <matplotlib.axes._subplots.AxesSubplot object at 0x0000000010D489E8>]], dtype=object))"
      ]
     },
     "execution_count": 15,
     "metadata": {},
     "output_type": "execute_result"
    },
    {
     "data": {
      "image/png": "[encoded data removed]",
      "text/plain": [
       "<matplotlib.figure.Figure at 0xc999160>"
      ]
     },
     "metadata": {},
     "output_type": "display_data"
    }
   ],
   "source": [
    "pts = analyze.propagate_test_states(CROT, ts)\n",
    "analyze.plot_state([pts.values()], var=pts.keys())"
   ]
  }
 ],
 "metadata": {
  "anaconda-cloud": {},
  "kernelspec": {
   "display_name": "Python [conda env:py27]",
   "language": "python",
   "name": "conda-env-py27-py"
  },
  "language_info": {
   "codemirror_mode": {
    "name": "ipython",
    "version": 2
   },
   "file_extension": ".py",
   "mimetype": "text/x-python",
   "name": "python",
   "nbconvert_exporter": "python",
   "pygments_lexer": "ipython2",
   "version": "2.7.13"
  }
 },
 "nbformat": 4,
 "nbformat_minor": 1
}
